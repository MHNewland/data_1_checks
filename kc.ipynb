{
 "cells": [
  {
   "cell_type": "code",
   "execution_count": 15,
   "metadata": {},
   "outputs": [
    {
     "data": {
      "text/html": [
       "<div>\n",
       "<style scoped>\n",
       "    .dataframe tbody tr th:only-of-type {\n",
       "        vertical-align: middle;\n",
       "    }\n",
       "\n",
       "    .dataframe tbody tr th {\n",
       "        vertical-align: top;\n",
       "    }\n",
       "\n",
       "    .dataframe thead th {\n",
       "        text-align: right;\n",
       "    }\n",
       "</style>\n",
       "<table border=\"1\" class=\"dataframe\">\n",
       "  <thead>\n",
       "    <tr style=\"text-align: right;\">\n",
       "      <th></th>\n",
       "      <th>Serial Number</th>\n",
       "      <th>Country</th>\n",
       "      <th>Total Cases</th>\n",
       "      <th>Total Deaths</th>\n",
       "      <th>Total Recovered</th>\n",
       "      <th>Active Cases</th>\n",
       "      <th>Total Test</th>\n",
       "      <th>Population</th>\n",
       "    </tr>\n",
       "  </thead>\n",
       "  <tbody>\n",
       "    <tr>\n",
       "      <th>0</th>\n",
       "      <td>1</td>\n",
       "      <td>USA</td>\n",
       "      <td>104,196,861</td>\n",
       "      <td>1,132,935</td>\n",
       "      <td>101,322,779</td>\n",
       "      <td>1,741,147</td>\n",
       "      <td>1,159,832,679</td>\n",
       "      <td>334,805,269</td>\n",
       "    </tr>\n",
       "    <tr>\n",
       "      <th>1</th>\n",
       "      <td>2</td>\n",
       "      <td>India</td>\n",
       "      <td>44,682,784</td>\n",
       "      <td>530,740</td>\n",
       "      <td>44,150,289</td>\n",
       "      <td>1,755</td>\n",
       "      <td>915,265,788</td>\n",
       "      <td>1,406,631,776</td>\n",
       "    </tr>\n",
       "    <tr>\n",
       "      <th>2</th>\n",
       "      <td>3</td>\n",
       "      <td>France</td>\n",
       "      <td>39,524,311</td>\n",
       "      <td>164,233</td>\n",
       "      <td>39,264,546</td>\n",
       "      <td>95,532</td>\n",
       "      <td>271,490,188</td>\n",
       "      <td>65,584,518</td>\n",
       "    </tr>\n",
       "    <tr>\n",
       "      <th>3</th>\n",
       "      <td>4</td>\n",
       "      <td>Germany</td>\n",
       "      <td>37,779,833</td>\n",
       "      <td>165,711</td>\n",
       "      <td>37,398,100</td>\n",
       "      <td>216,022</td>\n",
       "      <td>122,332,384</td>\n",
       "      <td>83,883,596</td>\n",
       "    </tr>\n",
       "    <tr>\n",
       "      <th>4</th>\n",
       "      <td>5</td>\n",
       "      <td>Brazil</td>\n",
       "      <td>36,824,580</td>\n",
       "      <td>697,074</td>\n",
       "      <td>35,919,372</td>\n",
       "      <td>208,134</td>\n",
       "      <td>63,776,166</td>\n",
       "      <td>215,353,593</td>\n",
       "    </tr>\n",
       "  </tbody>\n",
       "</table>\n",
       "</div>"
      ],
      "text/plain": [
       "   Serial Number  Country  Total Cases Total Deaths Total Recovered  \\\n",
       "0              1      USA  104,196,861    1,132,935     101,322,779   \n",
       "1              2    India   44,682,784      530,740      44,150,289   \n",
       "2              3   France   39,524,311      164,233      39,264,546   \n",
       "3              4  Germany   37,779,833      165,711      37,398,100   \n",
       "4              5   Brazil   36,824,580      697,074      35,919,372   \n",
       "\n",
       "  Active Cases     Total Test     Population  \n",
       "0    1,741,147  1,159,832,679    334,805,269  \n",
       "1        1,755    915,265,788  1,406,631,776  \n",
       "2       95,532    271,490,188     65,584,518  \n",
       "3      216,022    122,332,384     83,883,596  \n",
       "4      208,134     63,776,166    215,353,593  "
      ]
     },
     "execution_count": 15,
     "metadata": {},
     "output_type": "execute_result"
    }
   ],
   "source": [
    "import pandas as pd \n",
    "import matplotlib.pyplot as plt\n",
    "\n",
    "df = pd.read_csv('assets/covid_worldwide.csv')\n",
    "\n",
    "df.head()"
   ]
  },
  {
   "cell_type": "code",
   "execution_count": 24,
   "metadata": {},
   "outputs": [
    {
     "name": "stdout",
     "output_type": "stream",
     "text": [
      "<class 'pandas.core.series.Series'>\n"
     ]
    },
    {
     "data": {
      "text/plain": [
       "[<matplotlib.lines.Line2D at 0x212b231a2d0>]"
      ]
     },
     "execution_count": 24,
     "metadata": {},
     "output_type": "execute_result"
    },
    {
     "data": {
      "image/png": "[encoded data removed]",
      "text/plain": [
       "<Figure size 640x480 with 1 Axes>"
      ]
     },
     "metadata": {},
     "output_type": "display_data"
    }
   ],
   "source": [
    "pop = pd.to_numeric(df[\"Population\"].replace(\",\",\"\",regex=True))\n",
    "print (type(pop))\n",
    "tc = pd.to_numeric(df[\"Total Cases\"].replace(\",\",\"\",regex=True))\n",
    "\n",
    "fig, ax = plt.subplots(1)\n",
    "plt.plot(pop, tc, 'o')\n",
    "\n",
    "#ax.xaxis.set_ticklabels([0, tc.max()])"
   ]
  }
 ],
 "metadata": {
  "kernelspec": {
   "display_name": "Python 3",
   "language": "python",
   "name": "python3"
  },
  "language_info": {
   "codemirror_mode": {
    "name": "ipython",
    "version": 3
   },
   "file_extension": ".py",
   "mimetype": "text/x-python",
   "name": "python",
   "nbconvert_exporter": "python",
   "pygments_lexer": "ipython3",
   "version": "3.11.0"
  },
  "orig_nbformat": 4
 },
 "nbformat": 4,
 "nbformat_minor": 2
}
